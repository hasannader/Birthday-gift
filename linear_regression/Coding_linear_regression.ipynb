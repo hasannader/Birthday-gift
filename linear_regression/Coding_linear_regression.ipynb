{
  "cells": [
    {
      "cell_type": "markdown",
      "metadata": {
        "id": "DX4r4QJAjKBA"
      },
      "source": [
        "# Chapter 3: Linear Regression for a housing dataset\n",
        "\n",
        "### Importing the necessary packages"
      ]
    },
    {
      "cell_type": "code",
      "execution_count": 1,
      "metadata": {
        "id": "NdmKkdOIjMyP",
        "colab": {
          "base_uri": "https://localhost:8080/"
        },
        "collapsed": true,
        "outputId": "dd2dcb3e-de58-492b-f2c1-817c388be33a"
      },
      "outputs": [
        {
          "output_type": "stream",
          "name": "stdout",
          "text": [
            "Cloning into 'ml-1'...\n",
            "remote: Enumerating objects: 112, done.\u001b[K\n",
            "remote: Counting objects: 100% (112/112), done.\u001b[K\n",
            "remote: Compressing objects: 100% (55/55), done.\u001b[K\n",
            "remote: Total 112 (delta 55), reused 112 (delta 55), pack-reused 0 (from 0)\u001b[K\n",
            "Receiving objects: 100% (112/112), 29.74 MiB | 7.02 MiB/s, done.\n",
            "Resolving deltas: 100% (55/55), done.\n",
            "Updating files: 100% (39/39), done.\n",
            "/content/ml-1/linear_regression\n"
          ]
        }
      ],
      "source": [
        "!git clone https://github.com/AbdelrhmanElsaied/ml-1\n",
        "%cd  ml-1/linear_regression"
      ]
    },
    {
      "cell_type": "code",
      "execution_count": 2,
      "metadata": {
        "id": "2Lp-pE1xjKBG"
      },
      "outputs": [],
      "source": [
        "from matplotlib import pyplot as plt\n",
        "import numpy as np\n",
        "import random\n",
        "import utils"
      ]
    },
    {
      "cell_type": "markdown",
      "metadata": {
        "id": "VzQuZ_CyjKBH"
      },
      "source": [
        "### Defining and plotting our dataset"
      ]
    },
    {
      "cell_type": "code",
      "execution_count": 3,
      "metadata": {
        "id": "TW-HBsNzjKBH",
        "colab": {
          "base_uri": "https://localhost:8080/"
        },
        "outputId": "f5c0d92f-693d-4793-bf64-3f3acfba3c46"
      },
      "outputs": [
        {
          "output_type": "stream",
          "name": "stdout",
          "text": [
            "[1 2 3 5 6 7]\n",
            "[155 197 244 356 407 448]\n"
          ]
        }
      ],
      "source": [
        "features = np.array([1,2,3,5,6,7])\n",
        "labels = np.array([155, 197, 244, 356,407,448])\n",
        "\n",
        "print(features)\n",
        "print(labels)"
      ]
    },
    {
      "cell_type": "code",
      "execution_count": 4,
      "metadata": {
        "id": "pkC2jEKcjKBI",
        "colab": {
          "base_uri": "https://localhost:8080/",
          "height": 449
        },
        "outputId": "31c4e80b-e02a-4d74-de03-a1db195baf26"
      },
      "outputs": [
        {
          "output_type": "display_data",
          "data": {
            "text/plain": [
              "<Figure size 640x480 with 1 Axes>"
            ],
            "image/png": "[encoded data removed]"
          },
          "metadata": {}
        }
      ],
      "source": [
        "utils.plot_points(features, labels)"
      ]
    },
    {
      "cell_type": "markdown",
      "metadata": {
        "id": "50-WodUTjKBJ"
      },
      "source": [
        "### Coding the tricks\n",
        "\n",
        "- Simple trick\n",
        "- Square trick\n",
        "- Absolute trick"
      ]
    },
    {
      "cell_type": "markdown",
      "source": [
        "## Simple trick"
      ],
      "metadata": {
        "id": "-KUIkOBJzqTK"
      }
    },
    {
      "cell_type": "code",
      "source": [
        "# base_price -> c\n",
        "# price_per_room -> m\n",
        "# num_rooms -> x\n",
        "# price -> y"
      ],
      "metadata": {
        "id": "NOaZMB_FucFr"
      },
      "execution_count": 5,
      "outputs": []
    },
    {
      "cell_type": "code",
      "execution_count": 6,
      "metadata": {
        "id": "XgeArBsYjKBJ"
      },
      "outputs": [],
      "source": [
        "# def simple_trick(base_price, price_per_room, num_rooms, price):\n",
        "\n",
        "#     small_random_1 = random.random()*0.1\n",
        "#     small_random_2 = random.random()*0.1\n",
        "\n",
        "#     predicted_price = base_price + price_per_room*num_rooms\n",
        "\n",
        "#     if price > predicted_price and num_rooms > 0:\n",
        "#         price_per_room += small_random_1\n",
        "#         base_price += small_random_2\n",
        "#     if price > predicted_price and num_rooms < 0:\n",
        "#         price_per_room -= small_random_1\n",
        "#         base_price += small_random_2\n",
        "#     if price < predicted_price and num_rooms > 0:\n",
        "#         price_per_room -= small_random_1\n",
        "#         base_price -= small_random_2\n",
        "#     if price < predicted_price and num_rooms < 0:\n",
        "#         price_per_room -= small_random_1\n",
        "#         base_price += small_random_2\n",
        "#     return price_per_room, base_price"
      ]
    },
    {
      "cell_type": "code",
      "source": [
        "# def simple_trick(c, m, x, y):\n",
        "\n",
        "#     small_random_1 = random.random()*0.1\n",
        "#     small_random_2 = random.random()*0.1\n",
        "\n",
        "#     y_hat = c + m*x\n",
        "\n",
        "#     if y > y_hat and x > 0:\n",
        "#         m += small_random_1\n",
        "#         c += small_random_2\n",
        "#     if y > y_hat and x < 0:\n",
        "#         m -= small_random_1\n",
        "#         c += small_random_2\n",
        "#     if y < y_hat and x > 0:\n",
        "#         m -= small_random_1\n",
        "#         c -= small_random_2\n",
        "#     if y < y_hat and x < 0:\n",
        "#         m += small_random_1\n",
        "#         c -= small_random_2\n",
        "#     return m, c"
      ],
      "metadata": {
        "id": "SCtgSV3ovgJS"
      },
      "execution_count": 7,
      "outputs": []
    },
    {
      "cell_type": "code",
      "source": [
        "def simple_trick(base_price, price_per_room, num_rooms, price):\n",
        "\n",
        "    small_random_1 = random.random()*0.1\n",
        "    small_random_2 = random.random()*0.1\n",
        "\n",
        "    predicted_price = base_price + price_per_room*num_rooms\n",
        "\n",
        "    if price > predicted_price and num_rooms > 0:\n",
        "        price_per_room += small_random_1\n",
        "        base_price += small_random_2\n",
        "    if price > predicted_price and num_rooms < 0:\n",
        "        price_per_room -= small_random_1\n",
        "        base_price += small_random_2\n",
        "    if price < predicted_price and num_rooms > 0:\n",
        "        price_per_room -= small_random_1\n",
        "        base_price -= small_random_2\n",
        "    if price < predicted_price and num_rooms < 0:\n",
        "        price_per_room += small_random_1\n",
        "        base_price -= small_random_2\n",
        "    return price_per_room, base_price"
      ],
      "metadata": {
        "id": "rE5T1w6yygQi"
      },
      "execution_count": 16,
      "outputs": []
    },
    {
      "cell_type": "markdown",
      "source": [
        "## Square trick"
      ],
      "metadata": {
        "id": "BfXkXoaczvxa"
      }
    },
    {
      "cell_type": "code",
      "source": [
        "# base_price -> c\n",
        "# price_per_room -> m\n",
        "# num_rooms -> x\n",
        "# price -> y"
      ],
      "metadata": {
        "id": "8pQJuiDyxEEC"
      },
      "execution_count": 9,
      "outputs": []
    },
    {
      "cell_type": "code",
      "execution_count": 10,
      "metadata": {
        "id": "sKFJi0SDjKBK"
      },
      "outputs": [],
      "source": [
        "# def square_trick(c, m, x, y, learning_rate):\n",
        "#     ## TODO ##\n",
        "#     #implement square_trick and return the new price_per_room and base_price\n",
        "#     # calculate the predicted price then calculate the new price_per_room and base_price\n",
        "\n",
        "#     y_hat = c + m * x\n",
        "#     error = y - y_hat\n",
        "#     m = m + learning_rate * error * x\n",
        "#     c = c + learning_rate * error\n",
        "\n",
        "#     return m, c"
      ]
    },
    {
      "cell_type": "code",
      "source": [
        "def square_trick(base_price, price_per_room, num_rooms, price, learning_rate):\n",
        "    ## TODO ##\n",
        "    #implement square_trick and return the new price_per_room and base_price\n",
        "    # calculate the predicted price then calculate the new price_per_room and base_price\n",
        "\n",
        "    # predicted_price = base_price + price_per_room * num_rooms\n",
        "    error = price - predicted_price\n",
        "    price_per_room = price_per_room + learning_rate * error * num_rooms\n",
        "    base_price = base_price + learning_rate * error\n",
        "\n",
        "    return price_per_room, base_price"
      ],
      "metadata": {
        "id": "X6f2-6CFze1K"
      },
      "execution_count": 11,
      "outputs": []
    },
    {
      "cell_type": "markdown",
      "source": [
        "## Absolute trick"
      ],
      "metadata": {
        "id": "KJToJwQLz6-6"
      }
    },
    {
      "cell_type": "code",
      "execution_count": 12,
      "metadata": {
        "id": "KDpRByp4jKBK"
      },
      "outputs": [],
      "source": [
        "def absolute_trick(base_price, price_per_room, num_rooms, price, learning_rate):\n",
        "    ## TODO ##\n",
        "    #implement absolute_trick and return the new price_per_room and base_price\n",
        "    # calculate the predicted price then calculate the new price_per_room and base_price\n",
        "\n",
        "    return price_per_room, base_price"
      ]
    },
    {
      "cell_type": "markdown",
      "metadata": {
        "id": "Uak0SEZbjKBL"
      },
      "source": [
        "### Running the linear regression algorithm\n",
        "\n",
        "The linear regression algorithm consists of:\n",
        "- Starting with random weights\n",
        "- Iterating the square (or simple, or absolute) trick many times."
      ]
    },
    {
      "cell_type": "code",
      "execution_count": 13,
      "metadata": {
        "id": "j73km5P1jKBL",
        "outputId": "db8f2cd7-4ef0-449d-e018-b4a6ffeb65f5",
        "colab": {
          "base_uri": "https://localhost:8080/",
          "height": 509
        }
      },
      "outputs": [
        {
          "output_type": "stream",
          "name": "stdout",
          "text": [
            "Price per room: 0.8444218515250481\n",
            "Base price: 0.7579544029403025\n"
          ]
        },
        {
          "output_type": "execute_result",
          "data": {
            "text/plain": [
              "(0.8444218515250481, 0.7579544029403025)"
            ]
          },
          "metadata": {},
          "execution_count": 13
        },
        {
          "output_type": "display_data",
          "data": {
            "text/plain": [
              "<Figure size 640x480 with 1 Axes>"
            ],
            "image/png": "[encoded data removed]"
          },
          "metadata": {}
        }
      ],
      "source": [
        "# import random as rd\n",
        "\n",
        "# # We set the random seed in order to always get the same results.\n",
        "# random.seed(0)\n",
        "\n",
        "# def linear_regression(features, labels, learning_rate=0.01, epochs = 1000):\n",
        "#     price_per_room =  random.random() # start with random weight\n",
        "#     base_price =  random.random() # start with random bias\n",
        "#     ## TODO ##\n",
        "#     # for this number of epochs\n",
        "#     # get a random datasample of our dataset(x,y)\n",
        "#     # using the selected datasample use square_trick fn or absolute_trick fn to update price_per_room and base_price\n",
        "\n",
        "#     utils.draw_line(price_per_room, base_price, 'black', starting=0, ending=8)\n",
        "#     utils.plot_points(features, labels)\n",
        "#     print('Price per room:', price_per_room)\n",
        "#     print('Base price:', base_price)\n",
        "#     return price_per_room, base_price\n",
        "\n",
        "# # This line is for the x-axis to appear in the figure\n",
        "# plt.ylim(0,500)\n",
        "\n",
        "# linear_regression(features, labels, learning_rate = 0.01, epochs = 1000)"
      ]
    },
    {
      "cell_type": "code",
      "source": [
        "import random as rd\n",
        "import matplotlib.pyplot as plt\n",
        "import utils  # assuming your utils file has draw_line and plot_points\n",
        "\n",
        "# We set the random seed in order to always get the same results.\n",
        "rd.seed(0)\n",
        "\n",
        "def linear_regression(features, labels, learning_rate=0.01, epochs=1000):\n",
        "    price_per_room = rd.random()  # start with random weight\n",
        "    base_price = rd.random()      # start with random bias\n",
        "\n",
        "    for epoch in range(epochs):\n",
        "        # get a random data sample\n",
        "        idx = rd.randint(0, len(features) - 1)\n",
        "        num_rooms = features[idx]\n",
        "        price = labels[idx]\n",
        "\n",
        "        # update parameters using square_trick (already defined elsewhere)\n",
        "        price_per_room, base_price = square_trick(base_price, price_per_room, num_rooms, price, learning_rate)\n",
        "\n",
        "        # draw red lines for iterations\n",
        "        # utils.draw_line(price_per_room, base_price, 'red', starting=0, ending=8)\n",
        "\n",
        "    # draw final line in black\n",
        "    utils.draw_line(price_per_room, base_price, 'black', starting=0, ending=8, linewidth=2)\n",
        "\n",
        "    # plot dataset points\n",
        "    utils.plot_points(features, labels)\n",
        "\n",
        "    print('Price per room:', price_per_room)\n",
        "    print('Base price:', base_price)\n",
        "    return price_per_room, base_price"
      ],
      "metadata": {
        "id": "FnEpZI8bsj5u"
      },
      "execution_count": 53,
      "outputs": []
    },
    {
      "cell_type": "code",
      "source": [
        "# This line is for the y-axis range in the figure\n",
        "plt.ylim(0, 500)\n",
        "\n",
        "linear_regression(features, labels, learning_rate=0.01, epochs=1000)"
      ],
      "metadata": {
        "id": "YrzxuOqssxH2",
        "outputId": "57e71f2f-e3b7-474d-c516-107987f5b657",
        "colab": {
          "base_uri": "https://localhost:8080/",
          "height": 509
        }
      },
      "execution_count": 54,
      "outputs": [
        {
          "output_type": "stream",
          "name": "stdout",
          "text": [
            "Price per room: 51.04430678220095\n",
            "Base price: 91.59448307644864\n"
          ]
        },
        {
          "output_type": "execute_result",
          "data": {
            "text/plain": [
              "(np.float64(51.04430678220095), np.float64(91.59448307644864))"
            ]
          },
          "metadata": {},
          "execution_count": 54
        },
        {
          "output_type": "display_data",
          "data": {
            "text/plain": [
              "<Figure size 640x480 with 1 Axes>"
            ],
            "image/png": "[encoded data removed]"
          },
          "metadata": {}
        }
      ]
    },
    {
      "cell_type": "code",
      "source": [
        "# This line is for the y-axis range in the figure\n",
        "plt.ylim(0, 500)\n",
        "\n",
        "linear_regression(features, labels, learning_rate=0.01, epochs=500)"
      ],
      "metadata": {
        "id": "R-1oNx6ctFmm",
        "outputId": "f83b5bfa-8354-4deb-c487-1642ad4ba284",
        "colab": {
          "base_uri": "https://localhost:8080/",
          "height": 509
        }
      },
      "execution_count": 55,
      "outputs": [
        {
          "output_type": "stream",
          "name": "stdout",
          "text": [
            "Price per room: 56.563232886597966\n",
            "Base price: 70.07097571122837\n"
          ]
        },
        {
          "output_type": "execute_result",
          "data": {
            "text/plain": [
              "(np.float64(56.563232886597966), np.float64(70.07097571122837))"
            ]
          },
          "metadata": {},
          "execution_count": 55
        },
        {
          "output_type": "display_data",
          "data": {
            "text/plain": [
              "<Figure size 640x480 with 1 Axes>"
            ],
            "image/png": "[encoded data removed]"
          },
          "metadata": {}
        }
      ]
    },
    {
      "cell_type": "code",
      "source": [
        "# This line is for the y-axis range in the figure\n",
        "plt.ylim(0, 500)\n",
        "\n",
        "linear_regression(features, labels, learning_rate=0.03, epochs=500)"
      ],
      "metadata": {
        "id": "4N42rF2QtHNe",
        "outputId": "9eda08b8-bd2a-489e-81ba-5314dde858f0",
        "colab": {
          "base_uri": "https://localhost:8080/",
          "height": 509
        }
      },
      "execution_count": 56,
      "outputs": [
        {
          "output_type": "stream",
          "name": "stdout",
          "text": [
            "Price per room: 49.79710671462793\n",
            "Base price: 96.07541109738881\n"
          ]
        },
        {
          "output_type": "execute_result",
          "data": {
            "text/plain": [
              "(np.float64(49.79710671462793), np.float64(96.07541109738881))"
            ]
          },
          "metadata": {},
          "execution_count": 56
        },
        {
          "output_type": "display_data",
          "data": {
            "text/plain": [
              "<Figure size 640x480 with 1 Axes>"
            ],
            "image/png": "[encoded data removed]"
          },
          "metadata": {}
        }
      ]
    },
    {
      "cell_type": "code",
      "source": [
        "# This line is for the y-axis range in the figure\n",
        "plt.ylim(0, 500)\n",
        "\n",
        "linear_regression(features, labels, learning_rate=0.001, epochs=500)"
      ],
      "metadata": {
        "id": "8WbIfaytvjXu",
        "outputId": "8ebefcce-887c-4001-9964-30a602f989b5",
        "colab": {
          "base_uri": "https://localhost:8080/",
          "height": 509
        }
      },
      "execution_count": 57,
      "outputs": [
        {
          "output_type": "stream",
          "name": "stdout",
          "text": [
            "Price per room: 64.97026570369533\n",
            "Base price: 21.150158117759464\n"
          ]
        },
        {
          "output_type": "execute_result",
          "data": {
            "text/plain": [
              "(np.float64(64.97026570369533), np.float64(21.150158117759464))"
            ]
          },
          "metadata": {},
          "execution_count": 57
        },
        {
          "output_type": "display_data",
          "data": {
            "text/plain": [
              "<Figure size 640x480 with 1 Axes>"
            ],
            "image/png": "[encoded data removed]"
          },
          "metadata": {}
        }
      ]
    },
    {
      "cell_type": "code",
      "source": [
        "# This line is for the y-axis range in the figure\n",
        "plt.ylim(0, 500)\n",
        "\n",
        "linear_regression(features, labels, learning_rate=0.001, epochs=10000)"
      ],
      "metadata": {
        "id": "yuW7Tkk3wlxe",
        "outputId": "59f87ee0-2767-44a5-adda-d1e36b1f28f8",
        "colab": {
          "base_uri": "https://localhost:8080/",
          "height": 509
        }
      },
      "execution_count": 58,
      "outputs": [
        {
          "output_type": "stream",
          "name": "stdout",
          "text": [
            "Price per room: 52.08614200648847\n",
            "Base price: 90.03255354786764\n"
          ]
        },
        {
          "output_type": "execute_result",
          "data": {
            "text/plain": [
              "(np.float64(52.08614200648847), np.float64(90.03255354786764))"
            ]
          },
          "metadata": {},
          "execution_count": 58
        },
        {
          "output_type": "display_data",
          "data": {
            "text/plain": [
              "<Figure size 640x480 with 1 Axes>"
            ],
            "image/png": "[encoded data removed]"
          },
          "metadata": {}
        }
      ]
    },
    {
      "cell_type": "markdown",
      "metadata": {
        "id": "IEZJnQv_jKBM"
      },
      "source": [
        "### Root mean squared error function"
      ]
    },
    {
      "cell_type": "code",
      "execution_count": 14,
      "metadata": {
        "id": "8yIxnLbFjKBM"
      },
      "outputs": [],
      "source": [
        "# The root mean square error function\n",
        "def rmse(labels, predictions):\n",
        "    ## TODO ##\n",
        "    # calculate the root meen square error between the labels and predictions\n",
        "\n",
        "    return error"
      ]
    },
    {
      "cell_type": "markdown",
      "metadata": {
        "id": "nh29EinojKBM"
      },
      "source": [
        "### Plotting the error function"
      ]
    },
    {
      "cell_type": "code",
      "execution_count": 17,
      "metadata": {
        "id": "O3u1TVZLjKBN",
        "outputId": "24b7f7e0-2da2-4684-daac-acc70b4aff33",
        "colab": {
          "base_uri": "https://localhost:8080/",
          "height": 296
        }
      },
      "outputs": [
        {
          "output_type": "error",
          "ename": "NameError",
          "evalue": "name 'error' is not defined",
          "traceback": [
            "\u001b[0;31m---------------------------------------------------------------------------\u001b[0m",
            "\u001b[0;31mNameError\u001b[0m                                 Traceback (most recent call last)",
            "\u001b[0;32m/tmp/ipython-input-433243230.py\u001b[0m in \u001b[0;36m<cell line: 0>\u001b[0;34m()\u001b[0m\n\u001b[1;32m     26\u001b[0m     \u001b[0;32mreturn\u001b[0m \u001b[0mprice_per_room\u001b[0m\u001b[0;34m,\u001b[0m \u001b[0mbase_price\u001b[0m\u001b[0;34m\u001b[0m\u001b[0;34m\u001b[0m\u001b[0m\n\u001b[1;32m     27\u001b[0m \u001b[0;34m\u001b[0m\u001b[0m\n\u001b[0;32m---> 28\u001b[0;31m \u001b[0mlinear_regression\u001b[0m\u001b[0;34m(\u001b[0m\u001b[0mfeatures\u001b[0m\u001b[0;34m,\u001b[0m \u001b[0mlabels\u001b[0m\u001b[0;34m,\u001b[0m \u001b[0mlearning_rate\u001b[0m \u001b[0;34m=\u001b[0m \u001b[0;36m0.01\u001b[0m\u001b[0;34m,\u001b[0m \u001b[0mepochs\u001b[0m \u001b[0;34m=\u001b[0m \u001b[0;36m10000\u001b[0m\u001b[0;34m)\u001b[0m\u001b[0;34m\u001b[0m\u001b[0;34m\u001b[0m\u001b[0m\n\u001b[0m",
            "\u001b[0;32m/tmp/ipython-input-433243230.py\u001b[0m in \u001b[0;36mlinear_regression\u001b[0;34m(features, labels, learning_rate, epochs)\u001b[0m\n\u001b[1;32m      5\u001b[0m     \u001b[0;32mfor\u001b[0m \u001b[0mi\u001b[0m \u001b[0;32min\u001b[0m \u001b[0mrange\u001b[0m\u001b[0;34m(\u001b[0m\u001b[0mepochs\u001b[0m\u001b[0;34m)\u001b[0m\u001b[0;34m:\u001b[0m\u001b[0;34m\u001b[0m\u001b[0;34m\u001b[0m\u001b[0m\n\u001b[1;32m      6\u001b[0m         \u001b[0mpredictions\u001b[0m \u001b[0;34m=\u001b[0m \u001b[0mfeatures\u001b[0m\u001b[0;34m*\u001b[0m\u001b[0mprice_per_room\u001b[0m\u001b[0;34m+\u001b[0m\u001b[0mbase_price\u001b[0m\u001b[0;34m\u001b[0m\u001b[0;34m\u001b[0m\u001b[0m\n\u001b[0;32m----> 7\u001b[0;31m         \u001b[0merrors\u001b[0m\u001b[0;34m.\u001b[0m\u001b[0mappend\u001b[0m\u001b[0;34m(\u001b[0m\u001b[0mrmse\u001b[0m\u001b[0;34m(\u001b[0m\u001b[0mlabels\u001b[0m\u001b[0;34m,\u001b[0m \u001b[0mpredictions\u001b[0m\u001b[0;34m)\u001b[0m\u001b[0;34m)\u001b[0m\u001b[0;34m\u001b[0m\u001b[0;34m\u001b[0m\u001b[0m\n\u001b[0m\u001b[1;32m      8\u001b[0m         \u001b[0mi\u001b[0m \u001b[0;34m=\u001b[0m \u001b[0mrandom\u001b[0m\u001b[0;34m.\u001b[0m\u001b[0mrandint\u001b[0m\u001b[0;34m(\u001b[0m\u001b[0;36m0\u001b[0m\u001b[0;34m,\u001b[0m \u001b[0mlen\u001b[0m\u001b[0;34m(\u001b[0m\u001b[0mfeatures\u001b[0m\u001b[0;34m)\u001b[0m\u001b[0;34m-\u001b[0m\u001b[0;36m1\u001b[0m\u001b[0;34m)\u001b[0m\u001b[0;34m\u001b[0m\u001b[0;34m\u001b[0m\u001b[0m\n\u001b[1;32m      9\u001b[0m         \u001b[0mnum_rooms\u001b[0m \u001b[0;34m=\u001b[0m \u001b[0mfeatures\u001b[0m\u001b[0;34m[\u001b[0m\u001b[0mi\u001b[0m\u001b[0;34m]\u001b[0m\u001b[0;34m\u001b[0m\u001b[0;34m\u001b[0m\u001b[0m\n",
            "\u001b[0;32m/tmp/ipython-input-2216965777.py\u001b[0m in \u001b[0;36mrmse\u001b[0;34m(labels, predictions)\u001b[0m\n\u001b[1;32m      4\u001b[0m     \u001b[0;31m# calculate the root meen square error between the labels and predictions\u001b[0m\u001b[0;34m\u001b[0m\u001b[0;34m\u001b[0m\u001b[0m\n\u001b[1;32m      5\u001b[0m \u001b[0;34m\u001b[0m\u001b[0m\n\u001b[0;32m----> 6\u001b[0;31m     \u001b[0;32mreturn\u001b[0m \u001b[0merror\u001b[0m\u001b[0;34m\u001b[0m\u001b[0;34m\u001b[0m\u001b[0m\n\u001b[0m",
            "\u001b[0;31mNameError\u001b[0m: name 'error' is not defined"
          ]
        }
      ],
      "source": [
        "def linear_regression(features, labels, learning_rate=0.01, epochs = 1000):\n",
        "    price_per_room = random.random()\n",
        "    base_price = random.random()\n",
        "    errors = []\n",
        "    for i in range(epochs):\n",
        "        predictions = features*price_per_room+base_price\n",
        "        errors.append(rmse(labels, predictions))\n",
        "        i = random.randint(0, len(features)-1)\n",
        "        num_rooms = features[i]\n",
        "        price = labels[i]\n",
        "        # Uncomment one of the following 3 lines to use the simple, the absolute, or the square trick\n",
        "        #price_per_room, base_price = simple_trick(base_price,\n",
        "        #price_per_room, base_price = absolute_trick(base_price,\n",
        "        price_per_room, base_price = square_trick(base_price,\n",
        "                                                  price_per_room,\n",
        "                                                  num_rooms,\n",
        "                                                  price,\n",
        "                                                  learning_rate=learning_rate)\n",
        "    utils.draw_line(price_per_room, base_price, 'black', starting=0, ending=9)\n",
        "    utils.plot_points(features, labels)\n",
        "    print('Price per room:', price_per_room)\n",
        "    print('Base price:', base_price)\n",
        "    plt.show()\n",
        "    plt.scatter(range(len(errors)), errors)\n",
        "    plt.show()\n",
        "    return price_per_room, base_price\n",
        "\n",
        "linear_regression(features, labels, learning_rate = 0.01, epochs = 10000)"
      ]
    },
    {
      "cell_type": "markdown",
      "metadata": {
        "id": "IFVTjCLMjKBN"
      },
      "source": [
        "### Linear regression using sklearn\n",
        "\n"
      ]
    },
    {
      "cell_type": "code",
      "execution_count": null,
      "metadata": {
        "id": "pRjXCzgqzXKO"
      },
      "outputs": [],
      "source": [
        "## TODO ##\n",
        "# Use sklearn to implement linear regression that fit our data (features, labels)\n"
      ]
    },
    {
      "cell_type": "code",
      "execution_count": null,
      "metadata": {
        "id": "q3nEUOfu0OF0"
      },
      "outputs": [],
      "source": [
        "## TODO ##\n",
        "# print the coefficients and bias of this model\n"
      ]
    },
    {
      "cell_type": "code",
      "execution_count": null,
      "metadata": {
        "id": "gIULdfcT4ZEi"
      },
      "outputs": [],
      "source": [
        "## TODO ##\n",
        "# use this model to predict the price of house that contains 4 rooms\n"
      ]
    },
    {
      "cell_type": "markdown",
      "metadata": {
        "id": "4vXa1CM7CDL3"
      },
      "source": [
        "### Normal Equation\n",
        "\n"
      ]
    },
    {
      "cell_type": "code",
      "execution_count": null,
      "metadata": {
        "id": "ar4JBp-cB4cH"
      },
      "outputs": [],
      "source": [
        "def Normal_Equation(features,labels):\n",
        "    ## TODO ##\n",
        "    # Use normal equation to get the weights\n",
        "    # don't forget to concatenate ones to the features\n",
        "\n",
        "    return W\n",
        "\n",
        "W = Normal_Equation(features,labels)\n",
        "print(W)"
      ]
    },
    {
      "cell_type": "markdown",
      "metadata": {
        "id": "gWcktyyaQz6W"
      },
      "source": [
        "### Real Example (Predict fuel efficiency)"
      ]
    },
    {
      "cell_type": "code",
      "execution_count": null,
      "metadata": {
        "id": "9FsCm9bStjDv"
      },
      "outputs": [],
      "source": [
        "# Use seaborn for pairplot.\n",
        "!pip install -q seaborn"
      ]
    },
    {
      "cell_type": "code",
      "execution_count": null,
      "metadata": {
        "id": "HgNYzR6qtjDv"
      },
      "outputs": [],
      "source": [
        "import matplotlib.pyplot as plt\n",
        "import numpy as np\n",
        "import pandas as pd\n",
        "import seaborn as sns\n",
        "\n",
        "# Make NumPy printouts easier to read.\n",
        "np.set_printoptions(precision=3, suppress=True)"
      ]
    },
    {
      "cell_type": "markdown",
      "metadata": {
        "id": "-lcAwFk7tjDv"
      },
      "source": [
        "#### Get data"
      ]
    },
    {
      "cell_type": "code",
      "execution_count": null,
      "metadata": {
        "id": "0bija4cctjDv"
      },
      "outputs": [],
      "source": [
        "url = 'http://archive.ics.uci.edu/ml/machine-learning-databases/auto-mpg/auto-mpg.data'\n",
        "column_names = ['MPG', 'Cylinders', 'Displacement', 'Horsepower', 'Weight',\n",
        "                'Acceleration', 'Model Year', 'Origin']\n",
        "\n",
        "raw_dataset = pd.read_csv(url, names=column_names,\n",
        "                          na_values='?', comment='\\t',\n",
        "                          sep=' ', skipinitialspace=True)"
      ]
    },
    {
      "cell_type": "code",
      "execution_count": null,
      "metadata": {
        "id": "xSZiWEkBtjDv"
      },
      "outputs": [],
      "source": [
        "dataset = raw_dataset.copy()\n",
        "dataset.head()"
      ]
    },
    {
      "cell_type": "markdown",
      "metadata": {
        "id": "p3G0mewStjDv"
      },
      "source": [
        "#### Clean data"
      ]
    },
    {
      "cell_type": "code",
      "execution_count": null,
      "metadata": {
        "id": "YaLFvdzItjDw"
      },
      "outputs": [],
      "source": [
        "dataset.isna().sum()"
      ]
    },
    {
      "cell_type": "code",
      "execution_count": null,
      "metadata": {
        "id": "twmooqHktjDw"
      },
      "outputs": [],
      "source": [
        "dataset = dataset.dropna()"
      ]
    },
    {
      "cell_type": "code",
      "execution_count": null,
      "metadata": {
        "id": "D3_TjNlMtjDw"
      },
      "outputs": [],
      "source": [
        "dataset.isna().sum()"
      ]
    },
    {
      "cell_type": "code",
      "execution_count": null,
      "metadata": {
        "id": "ovncucWltjDw"
      },
      "outputs": [],
      "source": [
        "dataset.head()"
      ]
    },
    {
      "cell_type": "code",
      "execution_count": null,
      "metadata": {
        "id": "UUmT0jwUtjDw"
      },
      "outputs": [],
      "source": [
        "dataset['Origin'] = dataset['Origin'].map({1: 'USA', 2: 'Europe', 3: 'Japan'})"
      ]
    },
    {
      "cell_type": "code",
      "execution_count": null,
      "metadata": {
        "id": "u3HttpbPtjDw"
      },
      "outputs": [],
      "source": [
        "dataset = pd.get_dummies(dataset, columns=['Origin'], prefix='', prefix_sep='')"
      ]
    },
    {
      "cell_type": "code",
      "execution_count": null,
      "metadata": {
        "id": "qx4gXpdqtjDw"
      },
      "outputs": [],
      "source": [
        "dataset.head()"
      ]
    },
    {
      "cell_type": "code",
      "execution_count": null,
      "metadata": {
        "id": "uSfJaac7tjDw"
      },
      "outputs": [],
      "source": [
        "sns.pairplot(dataset[['MPG','Displacement', 'Horsepower', 'Weight','Acceleration']])"
      ]
    },
    {
      "cell_type": "code",
      "execution_count": null,
      "metadata": {
        "id": "H2kkdtKJtjDx"
      },
      "outputs": [],
      "source": [
        "datasetXsingle=dataset[['Horsepower']]\n",
        "datasetXMulti=dataset[['Cylinders', 'Displacement', 'Horsepower', 'Weight',\n",
        "                'Acceleration', 'Model Year', 'Europe','Japan','USA']]\n",
        "datasetY=dataset[['MPG']]"
      ]
    },
    {
      "cell_type": "code",
      "execution_count": null,
      "metadata": {
        "id": "jymeZTfQtjDx"
      },
      "outputs": [],
      "source": [
        "# use single-variable input to fit linear regression model"
      ]
    },
    {
      "cell_type": "code",
      "execution_count": null,
      "metadata": {
        "id": "H1z3agcwtjDx"
      },
      "outputs": [],
      "source": [
        "# use multi-variable input to fit linear regression model"
      ]
    },
    {
      "cell_type": "code",
      "execution_count": null,
      "metadata": {
        "id": "EbXCCD2-tjDx"
      },
      "outputs": [],
      "source": [
        "# use Normalized mlti-variable input to fit linear regression model"
      ]
    },
    {
      "cell_type": "code",
      "execution_count": null,
      "metadata": {
        "id": "d4yFIkMItjDx"
      },
      "outputs": [],
      "source": []
    }
  ],
  "metadata": {
    "colab": {
      "name": "Copy of Coding_linear_regression.ipynb",
      "provenance": []
    },
    "kernelspec": {
      "display_name": "Python 3 (ipykernel)",
      "language": "python",
      "name": "python3"
    },
    "language_info": {
      "codemirror_mode": {
        "name": "ipython",
        "version": 3
      },
      "file_extension": ".py",
      "mimetype": "text/x-python",
      "name": "python",
      "nbconvert_exporter": "python",
      "pygments_lexer": "ipython3",
      "version": "3.9.12"
    }
  },
  "nbformat": 4,
  "nbformat_minor": 0
}