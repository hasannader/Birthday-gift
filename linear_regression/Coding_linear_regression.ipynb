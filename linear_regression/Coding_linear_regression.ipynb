{
  "cells": [
    {
      "cell_type": "markdown",
      "metadata": {
        "id": "DX4r4QJAjKBA"
      },
      "source": [
        "# Chapter 3: Linear Regression for a housing dataset\n",
        "\n",
        "### Importing the necessary packages"
      ]
    },
    {
      "cell_type": "code",
      "execution_count": 2,
      "metadata": {
        "id": "NdmKkdOIjMyP",
        "colab": {
          "base_uri": "https://localhost:8080/"
        },
        "collapsed": true,
        "outputId": "e4ade566-7430-4f14-a5f4-ed8b44487cbe"
      },
      "outputs": [
        {
          "output_type": "stream",
          "name": "stdout",
          "text": [
            "Cloning into 'ml-1'...\n",
            "remote: Enumerating objects: 112, done.\u001b[K\n",
            "remote: Counting objects:   0% (1/112)\u001b[K\rremote: Counting objects:   1% (2/112)\u001b[K\rremote: Counting objects:   2% (3/112)\u001b[K\rremote: Counting objects:   3% (4/112)\u001b[K\rremote: Counting objects:   4% (5/112)\u001b[K\rremote: Counting objects:   5% (6/112)\u001b[K\rremote: Counting objects:   6% (7/112)\u001b[K\rremote: Counting objects:   7% (8/112)\u001b[K\rremote: Counting objects:   8% (9/112)\u001b[K\rremote: Counting objects:   9% (11/112)\u001b[K\rremote: Counting objects:  10% (12/112)\u001b[K\rremote: Counting objects:  11% (13/112)\u001b[K\rremote: Counting objects:  12% (14/112)\u001b[K\rremote: Counting objects:  13% (15/112)\u001b[K\rremote: Counting objects:  14% (16/112)\u001b[K\rremote: Counting objects:  15% (17/112)\u001b[K\rremote: Counting objects:  16% (18/112)\u001b[K\rremote: Counting objects:  17% (20/112)\u001b[K\rremote: Counting objects:  18% (21/112)\u001b[K\rremote: Counting objects:  19% (22/112)\u001b[K\rremote: Counting objects:  20% (23/112)\u001b[K\rremote: Counting objects:  21% (24/112)\u001b[K\rremote: Counting objects:  22% (25/112)\u001b[K\rremote: Counting objects:  23% (26/112)\u001b[K\rremote: Counting objects:  24% (27/112)\u001b[K\rremote: Counting objects:  25% (28/112)\u001b[K\rremote: Counting objects:  26% (30/112)\u001b[K\rremote: Counting objects:  27% (31/112)\u001b[K\rremote: Counting objects:  28% (32/112)\u001b[K\rremote: Counting objects:  29% (33/112)\u001b[K\rremote: Counting objects:  30% (34/112)\u001b[K\rremote: Counting objects:  31% (35/112)\u001b[K\rremote: Counting objects:  32% (36/112)\u001b[K\rremote: Counting objects:  33% (37/112)\u001b[K\rremote: Counting objects:  34% (39/112)\u001b[K\rremote: Counting objects:  35% (40/112)\u001b[K\rremote: Counting objects:  36% (41/112)\u001b[K\rremote: Counting objects:  37% (42/112)\u001b[K\rremote: Counting objects:  38% (43/112)\u001b[K\rremote: Counting objects:  39% (44/112)\u001b[K\rremote: Counting objects:  40% (45/112)\u001b[K\rremote: Counting objects:  41% (46/112)\u001b[K\rremote: Counting objects:  42% (48/112)\u001b[K\rremote: Counting objects:  43% (49/112)\u001b[K\rremote: Counting objects:  44% (50/112)\u001b[K\rremote: Counting objects:  45% (51/112)\u001b[K\rremote: Counting objects:  46% (52/112)\u001b[K\rremote: Counting objects:  47% (53/112)\u001b[K\rremote: Counting objects:  48% (54/112)\u001b[K\rremote: Counting objects:  49% (55/112)\u001b[K\rremote: Counting objects:  50% (56/112)\u001b[K\rremote: Counting objects:  51% (58/112)\u001b[K\rremote: Counting objects:  52% (59/112)\u001b[K\rremote: Counting objects:  53% (60/112)\u001b[K\rremote: Counting objects:  54% (61/112)\u001b[K\rremote: Counting objects:  55% (62/112)\u001b[K\rremote: Counting objects:  56% (63/112)\u001b[K\rremote: Counting objects:  57% (64/112)\u001b[K\rremote: Counting objects:  58% (65/112)\u001b[K\rremote: Counting objects:  59% (67/112)\u001b[K\rremote: Counting objects:  60% (68/112)\u001b[K\rremote: Counting objects:  61% (69/112)\u001b[K\rremote: Counting objects:  62% (70/112)\u001b[K\rremote: Counting objects:  63% (71/112)\u001b[K\rremote: Counting objects:  64% (72/112)\u001b[K\rremote: Counting objects:  65% (73/112)\u001b[K\rremote: Counting objects:  66% (74/112)\u001b[K\rremote: Counting objects:  67% (76/112)\u001b[K\rremote: Counting objects:  68% (77/112)\u001b[K\rremote: Counting objects:  69% (78/112)\u001b[K\rremote: Counting objects:  70% (79/112)\u001b[K\rremote: Counting objects:  71% (80/112)\u001b[K\rremote: Counting objects:  72% (81/112)\u001b[K\rremote: Counting objects:  73% (82/112)\u001b[K\rremote: Counting objects:  74% (83/112)\u001b[K\rremote: Counting objects:  75% (84/112)\u001b[K\rremote: Counting objects:  76% (86/112)\u001b[K\rremote: Counting objects:  77% (87/112)\u001b[K\rremote: Counting objects:  78% (88/112)\u001b[K\rremote: Counting objects:  79% (89/112)\u001b[K\rremote: Counting objects:  80% (90/112)\u001b[K\rremote: Counting objects:  81% (91/112)\u001b[K\rremote: Counting objects:  82% (92/112)\u001b[K\rremote: Counting objects:  83% (93/112)\u001b[K\rremote: Counting objects:  84% (95/112)\u001b[K\rremote: Counting objects:  85% (96/112)\u001b[K\rremote: Counting objects:  86% (97/112)\u001b[K\rremote: Counting objects:  87% (98/112)\u001b[K\rremote: Counting objects:  88% (99/112)\u001b[K\rremote: Counting objects:  89% (100/112)\u001b[K\rremote: Counting objects:  90% (101/112)\u001b[K\rremote: Counting objects:  91% (102/112)\u001b[K\rremote: Counting objects:  92% (104/112)\u001b[K\rremote: Counting objects:  93% (105/112)\u001b[K\rremote: Counting objects:  94% (106/112)\u001b[K\rremote: Counting objects:  95% (107/112)\u001b[K\rremote: Counting objects:  96% (108/112)\u001b[K\rremote: Counting objects:  97% (109/112)\u001b[K\rremote: Counting objects:  98% (110/112)\u001b[K\rremote: Counting objects:  99% (111/112)\u001b[K\rremote: Counting objects: 100% (112/112)\u001b[K\rremote: Counting objects: 100% (112/112), done.\u001b[K\n",
            "remote: Compressing objects: 100% (55/55), done.\u001b[K\n",
            "remote: Total 112 (delta 55), reused 112 (delta 55), pack-reused 0 (from 0)\u001b[K\n",
            "Receiving objects: 100% (112/112), 29.74 MiB | 20.07 MiB/s, done.\n",
            "Resolving deltas: 100% (55/55), done.\n",
            "/content/ml-1/linear_regression/ml-1/linear_regression\n"
          ]
        }
      ],
      "source": [
        "!git clone https://github.com/AbdelrhmanElsaied/ml-1\n",
        "%cd  ml-1/linear_regression"
      ]
    },
    {
      "cell_type": "code",
      "execution_count": 3,
      "metadata": {
        "id": "2Lp-pE1xjKBG"
      },
      "outputs": [],
      "source": [
        "from matplotlib import pyplot as plt\n",
        "import numpy as np\n",
        "import random\n",
        "import utils"
      ]
    },
    {
      "cell_type": "markdown",
      "metadata": {
        "id": "VzQuZ_CyjKBH"
      },
      "source": [
        "### Defining and plotting our dataset"
      ]
    },
    {
      "cell_type": "code",
      "execution_count": 4,
      "metadata": {
        "id": "TW-HBsNzjKBH",
        "colab": {
          "base_uri": "https://localhost:8080/"
        },
        "outputId": "0fd76570-71d3-4445-cfb1-cbf9062eed69"
      },
      "outputs": [
        {
          "output_type": "stream",
          "name": "stdout",
          "text": [
            "[1 2 3 5 6 7]\n",
            "[155 197 244 356 407 448]\n"
          ]
        }
      ],
      "source": [
        "features = np.array([1,2,3,5,6,7])\n",
        "labels = np.array([155, 197, 244, 356,407,448])\n",
        "\n",
        "print(features)\n",
        "print(labels)"
      ]
    },
    {
      "cell_type": "code",
      "execution_count": 5,
      "metadata": {
        "id": "pkC2jEKcjKBI",
        "colab": {
          "base_uri": "https://localhost:8080/",
          "height": 449
        },
        "outputId": "2a4e0be8-b62a-4442-940f-3416ef759954"
      },
      "outputs": [
        {
          "output_type": "display_data",
          "data": {
            "text/plain": [
              "<Figure size 640x480 with 1 Axes>"
            ],
            "image/png": "[encoded data removed]"
          },
          "metadata": {}
        }
      ],
      "source": [
        "utils.plot_points(features, labels)"
      ]
    },
    {
      "cell_type": "markdown",
      "metadata": {
        "id": "50-WodUTjKBJ"
      },
      "source": [
        "### Coding the tricks\n",
        "\n",
        "- Simple trick\n",
        "- Square trick\n",
        "- Absolute trick"
      ]
    },
    {
      "cell_type": "markdown",
      "source": [
        "## Simple trick"
      ],
      "metadata": {
        "id": "-KUIkOBJzqTK"
      }
    },
    {
      "cell_type": "code",
      "source": [
        "# base_price -> c\n",
        "# price_per_room -> m\n",
        "# num_rooms -> x\n",
        "# price -> y"
      ],
      "metadata": {
        "id": "NOaZMB_FucFr"
      },
      "execution_count": null,
      "outputs": []
    },
    {
      "cell_type": "code",
      "execution_count": null,
      "metadata": {
        "id": "XgeArBsYjKBJ"
      },
      "outputs": [],
      "source": [
        "def simple_trick(base_price, price_per_room, num_rooms, price):\n",
        "\n",
        "    small_random_1 = random.random()*0.1\n",
        "    small_random_2 = random.random()*0.1\n",
        "\n",
        "    predicted_price = base_price + price_per_room*num_rooms\n",
        "\n",
        "    if price > predicted_price and num_rooms > 0:\n",
        "        price_per_room += small_random_1\n",
        "        base_price += small_random_2\n",
        "    if price > predicted_price and num_rooms < 0:\n",
        "        price_per_room -= small_random_1\n",
        "        base_price += small_random_2\n",
        "    if price < predicted_price and num_rooms > 0:\n",
        "        price_per_room -= small_random_1\n",
        "        base_price -= small_random_2\n",
        "    if price < predicted_price and num_rooms < 0:\n",
        "        price_per_room -= small_random_1\n",
        "        base_price += small_random_2\n",
        "    return price_per_room, base_price"
      ]
    },
    {
      "cell_type": "code",
      "source": [
        "def simple_trick(c, m, x, y):\n",
        "\n",
        "    small_random_1 = random.random()*0.1\n",
        "    small_random_2 = random.random()*0.1\n",
        "\n",
        "    y_hat = c + m*x\n",
        "\n",
        "    if y > y_hat and x > 0:\n",
        "        m += small_random_1\n",
        "        c += small_random_2\n",
        "    # if y > y_hat and x < 0:\n",
        "    #     m -= small_random_1\n",
        "    #     c += small_random_2\n",
        "    if y < y_hat and x > 0:\n",
        "        m -= small_random_1\n",
        "        c -= small_random_2\n",
        "    # if y < y_hat and x < 0:\n",
        "    #     m += small_random_1\n",
        "    #     c -= small_random_2\n",
        "    return m, c"
      ],
      "metadata": {
        "id": "SCtgSV3ovgJS"
      },
      "execution_count": null,
      "outputs": []
    },
    {
      "cell_type": "code",
      "source": [
        "def simple_trick(base_price, price_per_room, num_rooms, price):\n",
        "\n",
        "    small_random_1 = random.random()*0.1\n",
        "    small_random_2 = random.random()*0.1\n",
        "\n",
        "    predicted_price = base_price + price_per_room*num_rooms\n",
        "\n",
        "    if price > predicted_price and num_rooms > 0:\n",
        "        price_per_room += small_random_1\n",
        "        base_price += small_random_2\n",
        "    # if price > predicted_price and num_rooms < 0:\n",
        "    #     price_per_room -= small_random_1\n",
        "    #     base_price += small_random_2\n",
        "    if price < predicted_price and num_rooms > 0:\n",
        "        price_per_room -= small_random_1\n",
        "        base_price -= small_random_2\n",
        "    # if price < predicted_price and num_rooms < 0:\n",
        "    #     price_per_room += small_random_1\n",
        "    #     base_price -= small_random_2\n",
        "    return price_per_room, base_price"
      ],
      "metadata": {
        "id": "rE5T1w6yygQi"
      },
      "execution_count": null,
      "outputs": []
    },
    {
      "cell_type": "markdown",
      "source": [
        "## Square trick"
      ],
      "metadata": {
        "id": "BfXkXoaczvxa"
      }
    },
    {
      "cell_type": "code",
      "source": [
        "# base_price -> c\n",
        "# price_per_room -> m\n",
        "# num_rooms -> x\n",
        "# price -> y"
      ],
      "metadata": {
        "id": "8pQJuiDyxEEC"
      },
      "execution_count": null,
      "outputs": []
    },
    {
      "cell_type": "code",
      "execution_count": null,
      "metadata": {
        "id": "sKFJi0SDjKBK"
      },
      "outputs": [],
      "source": [
        "def square_trick(c, m, x, y, learning_rate):\n",
        "    ## TODO ##\n",
        "    #implement square_trick and return the new price_per_room and base_price\n",
        "    # calculate the predicted price then calculate the new price_per_room and base_price\n",
        "\n",
        "    y_hat = c + m * x\n",
        "    error = y - y_hat\n",
        "    m = m + learning_rate * error * x\n",
        "    c = c + learning_rate * error\n",
        "\n",
        "    return m, c"
      ]
    },
    {
      "cell_type": "code",
      "source": [
        "def square_trick(base_price, price_per_room, num_rooms, price, learning_rate):\n",
        "    ## TODO ##\n",
        "    #implement square_trick and return the new price_per_room and base_price\n",
        "    # calculate the predicted price then calculate the new price_per_room and base_price\n",
        "\n",
        "    predicted_price = base_price + price_per_room * num_rooms\n",
        "    error = price - predicted_price\n",
        "    price_per_room = price_per_room + learning_rate * error * num_rooms\n",
        "    base_price = base_price + learning_rate * error\n",
        "\n",
        "    return price_per_room, base_price"
      ],
      "metadata": {
        "id": "X6f2-6CFze1K"
      },
      "execution_count": null,
      "outputs": []
    },
    {
      "cell_type": "markdown",
      "source": [
        "## Absolute trick"
      ],
      "metadata": {
        "id": "KJToJwQLz6-6"
      }
    },
    {
      "cell_type": "code",
      "execution_count": null,
      "metadata": {
        "id": "KDpRByp4jKBK"
      },
      "outputs": [],
      "source": [
        "def absolute_trick(base_price, price_per_room, num_rooms, price, learning_rate):\n",
        "    ## TODO ##\n",
        "    #implement absolute_trick and return the new price_per_room and base_price\n",
        "    # calculate the predicted price then calculate the new price_per_room and base_price\n",
        "\n",
        "    return price_per_room, base_price"
      ]
    },
    {
      "cell_type": "markdown",
      "metadata": {
        "id": "Uak0SEZbjKBL"
      },
      "source": [
        "### Running the linear regression algorithm\n",
        "\n",
        "The linear regression algorithm consists of:\n",
        "- Starting with random weights\n",
        "- Iterating the square (or simple, or absolute) trick many times."
      ]
    },
    {
      "cell_type": "code",
      "execution_count": null,
      "metadata": {
        "id": "j73km5P1jKBL"
      },
      "outputs": [],
      "source": [
        "import random as rd\n",
        "\n",
        "# We set the random seed in order to always get the same results.\n",
        "random.seed(0)\n",
        "\n",
        "def linear_regression(features, labels, learning_rate=0.01, epochs = 1000):\n",
        "    price_per_room =  random.random() # start with random weight\n",
        "    base_price =  random.random() # start with random bias\n",
        "    ## TODO ##\n",
        "    # for this number of epochs\n",
        "    # get a random datasample of our dataset(x,y)\n",
        "    # using the selected datasample use square_trick fn or absolute_trick fn to update price_per_room and base_price\n",
        "\n",
        "    utils.draw_line(price_per_room, base_price, 'black', starting=0, ending=8)\n",
        "    utils.plot_points(features, labels)\n",
        "    print('Price per room:', price_per_room)\n",
        "    print('Base price:', base_price)\n",
        "    return price_per_room, base_price\n",
        "\n",
        "# This line is for the x-axis to appear in the figure\n",
        "plt.ylim(0,500)\n",
        "\n",
        "linear_regression(features, labels, learning_rate = 0.01, epochs = 1000)"
      ]
    },
    {
      "cell_type": "markdown",
      "metadata": {
        "id": "IEZJnQv_jKBM"
      },
      "source": [
        "### Root mean squared error function"
      ]
    },
    {
      "cell_type": "code",
      "execution_count": null,
      "metadata": {
        "id": "8yIxnLbFjKBM"
      },
      "outputs": [],
      "source": [
        "# The root mean square error function\n",
        "def rmse(labels, predictions):\n",
        "    ## TODO ##\n",
        "    # calculate the root meen square error between the labels and predictions\n",
        "\n",
        "    return error"
      ]
    },
    {
      "cell_type": "markdown",
      "metadata": {
        "id": "nh29EinojKBM"
      },
      "source": [
        "### Plotting the error function"
      ]
    },
    {
      "cell_type": "code",
      "execution_count": null,
      "metadata": {
        "id": "O3u1TVZLjKBN"
      },
      "outputs": [],
      "source": [
        "def linear_regression(features, labels, learning_rate=0.01, epochs = 1000):\n",
        "    price_per_room = random.random()\n",
        "    base_price = random.random()\n",
        "    errors = []\n",
        "    for i in range(epochs):\n",
        "        predictions = features*price_per_room+base_price\n",
        "        errors.append(rmse(labels, predictions))\n",
        "        i = random.randint(0, len(features)-1)\n",
        "        num_rooms = features[i]\n",
        "        price = labels[i]\n",
        "        # Uncomment one of the following 3 lines to use the simple, the absolute, or the square trick\n",
        "        #price_per_room, base_price = simple_trick(base_price,\n",
        "        #price_per_room, base_price = absolute_trick(base_price,\n",
        "        price_per_room, base_price = square_trick(base_price,\n",
        "                                                  price_per_room,\n",
        "                                                  num_rooms,\n",
        "                                                  price,\n",
        "                                                  learning_rate=learning_rate)\n",
        "    utils.draw_line(price_per_room, base_price, 'black', starting=0, ending=9)\n",
        "    utils.plot_points(features, labels)\n",
        "    print('Price per room:', price_per_room)\n",
        "    print('Base price:', base_price)\n",
        "    plt.show()\n",
        "    plt.scatter(range(len(errors)), errors)\n",
        "    plt.show()\n",
        "    return price_per_room, base_price\n",
        "\n",
        "linear_regression(features, labels, learning_rate = 0.01, epochs = 10000)"
      ]
    },
    {
      "cell_type": "markdown",
      "metadata": {
        "id": "IFVTjCLMjKBN"
      },
      "source": [
        "### Linear regression using sklearn\n",
        "\n"
      ]
    },
    {
      "cell_type": "code",
      "execution_count": null,
      "metadata": {
        "id": "pRjXCzgqzXKO"
      },
      "outputs": [],
      "source": [
        "## TODO ##\n",
        "# Use sklearn to implement linear regression that fit our data (features, labels)\n"
      ]
    },
    {
      "cell_type": "code",
      "execution_count": null,
      "metadata": {
        "id": "q3nEUOfu0OF0"
      },
      "outputs": [],
      "source": [
        "## TODO ##\n",
        "# print the coefficients and bias of this model\n"
      ]
    },
    {
      "cell_type": "code",
      "execution_count": null,
      "metadata": {
        "id": "gIULdfcT4ZEi"
      },
      "outputs": [],
      "source": [
        "## TODO ##\n",
        "# use this model to predict the price of house that contains 4 rooms\n"
      ]
    },
    {
      "cell_type": "markdown",
      "metadata": {
        "id": "4vXa1CM7CDL3"
      },
      "source": [
        "### Normal Equation\n",
        "\n"
      ]
    },
    {
      "cell_type": "code",
      "execution_count": null,
      "metadata": {
        "id": "ar4JBp-cB4cH"
      },
      "outputs": [],
      "source": [
        "def Normal_Equation(features,labels):\n",
        "    ## TODO ##\n",
        "    # Use normal equation to get the weights\n",
        "    # don't forget to concatenate ones to the features\n",
        "\n",
        "    return W\n",
        "\n",
        "W = Normal_Equation(features,labels)\n",
        "print(W)"
      ]
    },
    {
      "cell_type": "markdown",
      "metadata": {
        "id": "gWcktyyaQz6W"
      },
      "source": [
        "### Real Example (Predict fuel efficiency)"
      ]
    },
    {
      "cell_type": "code",
      "execution_count": null,
      "metadata": {
        "id": "9FsCm9bStjDv"
      },
      "outputs": [],
      "source": [
        "# Use seaborn for pairplot.\n",
        "!pip install -q seaborn"
      ]
    },
    {
      "cell_type": "code",
      "execution_count": null,
      "metadata": {
        "id": "HgNYzR6qtjDv"
      },
      "outputs": [],
      "source": [
        "import matplotlib.pyplot as plt\n",
        "import numpy as np\n",
        "import pandas as pd\n",
        "import seaborn as sns\n",
        "\n",
        "# Make NumPy printouts easier to read.\n",
        "np.set_printoptions(precision=3, suppress=True)"
      ]
    },
    {
      "cell_type": "markdown",
      "metadata": {
        "id": "-lcAwFk7tjDv"
      },
      "source": [
        "#### Get data"
      ]
    },
    {
      "cell_type": "code",
      "execution_count": null,
      "metadata": {
        "id": "0bija4cctjDv"
      },
      "outputs": [],
      "source": [
        "url = 'http://archive.ics.uci.edu/ml/machine-learning-databases/auto-mpg/auto-mpg.data'\n",
        "column_names = ['MPG', 'Cylinders', 'Displacement', 'Horsepower', 'Weight',\n",
        "                'Acceleration', 'Model Year', 'Origin']\n",
        "\n",
        "raw_dataset = pd.read_csv(url, names=column_names,\n",
        "                          na_values='?', comment='\\t',\n",
        "                          sep=' ', skipinitialspace=True)"
      ]
    },
    {
      "cell_type": "code",
      "execution_count": null,
      "metadata": {
        "id": "xSZiWEkBtjDv"
      },
      "outputs": [],
      "source": [
        "dataset = raw_dataset.copy()\n",
        "dataset.head()"
      ]
    },
    {
      "cell_type": "markdown",
      "metadata": {
        "id": "p3G0mewStjDv"
      },
      "source": [
        "#### Clean data"
      ]
    },
    {
      "cell_type": "code",
      "execution_count": null,
      "metadata": {
        "id": "YaLFvdzItjDw"
      },
      "outputs": [],
      "source": [
        "dataset.isna().sum()"
      ]
    },
    {
      "cell_type": "code",
      "execution_count": null,
      "metadata": {
        "id": "twmooqHktjDw"
      },
      "outputs": [],
      "source": [
        "dataset = dataset.dropna()"
      ]
    },
    {
      "cell_type": "code",
      "execution_count": null,
      "metadata": {
        "id": "D3_TjNlMtjDw"
      },
      "outputs": [],
      "source": [
        "dataset.isna().sum()"
      ]
    },
    {
      "cell_type": "code",
      "execution_count": null,
      "metadata": {
        "id": "ovncucWltjDw"
      },
      "outputs": [],
      "source": [
        "dataset.head()"
      ]
    },
    {
      "cell_type": "code",
      "execution_count": null,
      "metadata": {
        "id": "UUmT0jwUtjDw"
      },
      "outputs": [],
      "source": [
        "dataset['Origin'] = dataset['Origin'].map({1: 'USA', 2: 'Europe', 3: 'Japan'})"
      ]
    },
    {
      "cell_type": "code",
      "execution_count": null,
      "metadata": {
        "id": "u3HttpbPtjDw"
      },
      "outputs": [],
      "source": [
        "dataset = pd.get_dummies(dataset, columns=['Origin'], prefix='', prefix_sep='')"
      ]
    },
    {
      "cell_type": "code",
      "execution_count": null,
      "metadata": {
        "id": "qx4gXpdqtjDw"
      },
      "outputs": [],
      "source": [
        "dataset.head()"
      ]
    },
    {
      "cell_type": "code",
      "execution_count": null,
      "metadata": {
        "id": "uSfJaac7tjDw"
      },
      "outputs": [],
      "source": [
        "sns.pairplot(dataset[['MPG','Displacement', 'Horsepower', 'Weight','Acceleration']])"
      ]
    },
    {
      "cell_type": "code",
      "execution_count": null,
      "metadata": {
        "id": "H2kkdtKJtjDx"
      },
      "outputs": [],
      "source": [
        "datasetXsingle=dataset[['Horsepower']]\n",
        "datasetXMulti=dataset[['Cylinders', 'Displacement', 'Horsepower', 'Weight',\n",
        "                'Acceleration', 'Model Year', 'Europe','Japan','USA']]\n",
        "datasetY=dataset[['MPG']]"
      ]
    },
    {
      "cell_type": "code",
      "execution_count": null,
      "metadata": {
        "id": "jymeZTfQtjDx"
      },
      "outputs": [],
      "source": [
        "# use single-variable input to fit linear regression model"
      ]
    },
    {
      "cell_type": "code",
      "execution_count": null,
      "metadata": {
        "id": "H1z3agcwtjDx"
      },
      "outputs": [],
      "source": [
        "# use multi-variable input to fit linear regression model"
      ]
    },
    {
      "cell_type": "code",
      "execution_count": null,
      "metadata": {
        "id": "EbXCCD2-tjDx"
      },
      "outputs": [],
      "source": [
        "# use Normalized mlti-variable input to fit linear regression model"
      ]
    },
    {
      "cell_type": "code",
      "execution_count": null,
      "metadata": {
        "id": "d4yFIkMItjDx"
      },
      "outputs": [],
      "source": []
    }
  ],
  "metadata": {
    "colab": {
      "name": "Copy of Coding_linear_regression.ipynb",
      "provenance": []
    },
    "kernelspec": {
      "display_name": "Python 3 (ipykernel)",
      "language": "python",
      "name": "python3"
    },
    "language_info": {
      "codemirror_mode": {
        "name": "ipython",
        "version": 3
      },
      "file_extension": ".py",
      "mimetype": "text/x-python",
      "name": "python",
      "nbconvert_exporter": "python",
      "pygments_lexer": "ipython3",
      "version": "3.9.12"
    }
  },
  "nbformat": 4,
  "nbformat_minor": 0
}